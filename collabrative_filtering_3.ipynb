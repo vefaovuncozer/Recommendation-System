{
  "cells": [
    {
      "cell_type": "code",
      "execution_count": null,
      "metadata": {
        "colab": {
          "base_uri": "https://localhost:8080/"
        },
        "id": "c0SqvZ1tPd1N",
        "outputId": "7df0419e-bec5-4d1f-f3b7-8337b79474bc"
      },
      "outputs": [
        {
          "output_type": "stream",
          "name": "stdout",
          "text": [
            "Drive already mounted at /content/gdrive; to attempt to forcibly remount, call drive.mount(\"/content/gdrive\", force_remount=True).\n"
          ]
        }
      ],
      "source": [
        "from google.colab import drive\n",
        "drive.mount('/content/gdrive')"
      ]
    },
    {
      "cell_type": "code",
      "execution_count": null,
      "metadata": {
        "id": "3P7i8-th5RA4"
      },
      "outputs": [],
      "source": [
        "!pip install bayesian-optimization --quiet\n",
        "!pip install yellowbrick --quiet"
      ]
    },
    {
      "cell_type": "code",
      "execution_count": null,
      "metadata": {
        "id": "5vVXWlcDkbJZ"
      },
      "outputs": [],
      "source": [
        "import pandas as pd\n",
        "import numpy as np\n",
        "from sklearn.metrics import mean_squared_error\n",
        "from bayes_opt import BayesianOptimization\n",
        "#from sklearn.cluster import KMeans\n",
        "from yellowbrick.cluster import KElbowVisualizer\n",
        "import warnings\n",
        "\n",
        "# Ignore warnings\n",
        "warnings.filterwarnings(\"ignore\")"
      ]
    },
    {
      "cell_type": "code",
      "execution_count": null,
      "metadata": {
        "id": "dSisvXLrQ5ns"
      },
      "outputs": [],
      "source": [
        "#Import the ratings data\n",
        "df = pd.read_csv('/content/gdrive/MyDrive/ratings.csv')\n",
        "df.drop(columns=['timestamp'],inplace=True)\n",
        "\n",
        "# Assuming your original dataframe is named 'df'\n",
        "movieId_to_idx = {movieId: idx for idx, movieId in enumerate(df.movieId.unique())}\n",
        "idx_to_movieId = {idx: movieId for movieId, idx in movieId_to_idx.items()}\n",
        "\n",
        "# Assuming df is your dataframe with columns ['userId', 'movieId', 'rating']\n",
        "user_movie_matrix = df.pivot(index='userId', columns='movieId', values='rating')\n",
        "\n",
        "# Fill NaNs with zeros for now\n",
        "user_movie_matrix.fillna(0, inplace=True)\n",
        "\n",
        "# Convert dataframe to numpy matrix\n",
        "ratings = user_movie_matrix.values\n",
        "\n",
        "# Now, let's split the data into train, validation, and test sets\n",
        "# We'll use the mask method for this purpose\n",
        "np.random.seed(0)  # for reproducibility\n",
        "msk = np.random.rand(*ratings.shape) < 0.8\n",
        "train_ratings = ratings.copy()\n",
        "train_ratings[~msk] = 0\n",
        "\n",
        "test_val = ratings.copy()\n",
        "test_val[msk] = 0\n",
        "\n",
        "msk_test_val = np.random.rand(*test_val.shape) < 0.5\n",
        "val_ratings = test_val.copy()\n",
        "val_ratings[~msk_test_val] = 0\n",
        "\n",
        "test_ratings = test_val.copy()\n",
        "test_ratings[msk_test_val] = 0"
      ]
    },
    {
      "cell_type": "code",
      "execution_count": null,
      "metadata": {
        "colab": {
          "base_uri": "https://localhost:8080/"
        },
        "id": "6hjch3DvJrEc",
        "outputId": "5409352b-1881-425d-f12d-a0e684f1e642"
      },
      "outputs": [
        {
          "output_type": "stream",
          "name": "stdout",
          "text": [
            "Number of unique users: 668\n",
            "Number of unique movies: 10325\n",
            "Rating distribution:\n",
            "count    105339.000000\n",
            "mean          3.516850\n",
            "std           1.044872\n",
            "min           0.500000\n",
            "25%           3.000000\n",
            "50%           3.500000\n",
            "75%           4.000000\n",
            "max           5.000000\n",
            "Name: rating, dtype: float64\n",
            "Sparsity of the user-item matrix: 98.47%\n",
            "User activity:\n",
            "count     668.000000\n",
            "mean      157.693114\n",
            "std       319.712512\n",
            "min        20.000000\n",
            "25%        35.000000\n",
            "50%        70.500000\n",
            "75%       153.000000\n",
            "max      5678.000000\n",
            "dtype: float64\n",
            "Item popularity:\n",
            "count    10325.000000\n",
            "mean        10.202324\n",
            "std         22.832341\n",
            "min          1.000000\n",
            "25%          1.000000\n",
            "50%          3.000000\n",
            "75%          8.000000\n",
            "max        325.000000\n",
            "dtype: float64\n"
          ]
        }
      ],
      "source": [
        "# Assuming df is your dataframe with columns ['userId', 'movieId', 'rating']\n",
        "num_users = df.userId.nunique()\n",
        "num_movies = df.movieId.nunique()\n",
        "\n",
        "print(f'Number of unique users: {num_users}')\n",
        "print(f'Number of unique movies: {num_movies}')\n",
        "\n",
        "# Rating distribution\n",
        "print('Rating distribution:')\n",
        "print(df.rating.describe())\n",
        "\n",
        "# Missing values (i.e., sparsity of the user-item matrix)\n",
        "total_possible_ratings = num_users * num_movies\n",
        "actual_ratings = len(df)\n",
        "missing_ratings = total_possible_ratings - actual_ratings\n",
        "sparsity = missing_ratings / total_possible_ratings\n",
        "print(f'Sparsity of the user-item matrix: {sparsity * 100:.2f}%')\n",
        "\n",
        "# User activity\n",
        "user_activity = df.groupby('userId').size()\n",
        "print('User activity:')\n",
        "print(user_activity.describe())\n",
        "\n",
        "# Item popularity\n",
        "item_popularity = df.groupby('movieId').size()\n",
        "print('Item popularity:')\n",
        "print(item_popularity.describe())\n"
      ]
    },
    {
      "cell_type": "code",
      "execution_count": null,
      "metadata": {
        "id": "8pVPRRfPiyFe"
      },
      "outputs": [],
      "source": [
        "num_users, num_movies = ratings.shape\n",
        "num_factors = 10  # you can choose another number\n",
        "\n",
        "P = np.random.normal(scale=1./num_factors, size=(num_users, num_factors+1))  # +1 for the bias\n",
        "Q = np.random.normal(scale=1./num_factors, size=(num_movies, num_factors+1))  # +1 for the bias\n",
        "\n",
        "# Initialize biases to the global average rating\n",
        "global_average = np.mean(train_ratings[train_ratings != 0])\n",
        "P[:, 0] = global_average\n",
        "Q[:, 0] = global_average\n"
      ]
    },
    {
      "cell_type": "code",
      "execution_count": null,
      "metadata": {
        "id": "5e3gWDdDiz-0"
      },
      "outputs": [],
      "source": [
        "def train(matrix, P, Q, num_epochs=50, learning_rate=0.01, regularization=0.1):\n",
        "    Q = Q.T\n",
        "    rows, cols = matrix.nonzero()\n",
        "\n",
        "    for epoch in range(num_epochs):\n",
        "        for row, col in zip(rows, cols):\n",
        "            if matrix[row, col] > 0:\n",
        "                prediction = P[row, :].dot(Q[:, col])\n",
        "                error = matrix[row, col] - prediction\n",
        "\n",
        "                # Update P and Q\n",
        "                P[row, :] += learning_rate * (error * Q[:, col] - regularization * P[row, :])\n",
        "                Q[:, col] += learning_rate * (error * P[row, :] - regularization * Q[:, col])\n",
        "\n",
        "    return P, Q.T\n"
      ]
    },
    {
      "cell_type": "code",
      "execution_count": null,
      "metadata": {
        "id": "ecI91yvSi2D4"
      },
      "outputs": [],
      "source": [
        "def predict(P, Q):\n",
        "    return np.dot(P, Q.T)\n",
        ""
      ]
    },
    {
      "cell_type": "code",
      "execution_count": null,
      "metadata": {
        "id": "8u1JLvAmi4eW"
      },
      "outputs": [],
      "source": [
        "def calculate_rmse(actual, predicted):\n",
        "    non_zero_indices = actual.nonzero()\n",
        "    return np.sqrt(mean_squared_error(actual[non_zero_indices], predicted[non_zero_indices]))\n"
      ]
    },
    {
      "cell_type": "code",
      "execution_count": null,
      "metadata": {
        "colab": {
          "base_uri": "https://localhost:8080/"
        },
        "id": "DJ-6hc184RYY",
        "outputId": "48cc905d-01a6-41a9-882f-e3f3d9644283"
      },
      "outputs": [
        {
          "output_type": "stream",
          "name": "stdout",
          "text": [
            "|   iter    |  target   | learni... | num_ep... | regula... |\n",
            "-------------------------------------------------------------\n",
            "| \u001b[0m1        \u001b[0m | \u001b[0m-0.912   \u001b[0m | \u001b[0m0.004229 \u001b[0m | \u001b[0m38.81    \u001b[0m | \u001b[0m0.001011 \u001b[0m |\n",
            "| \u001b[0m2        \u001b[0m | \u001b[0m-0.9333  \u001b[0m | \u001b[0m0.003093 \u001b[0m | \u001b[0m15.87    \u001b[0m | \u001b[0m0.01014  \u001b[0m |\n",
            "| \u001b[95m3        \u001b[0m | \u001b[95m-0.9093  \u001b[0m | \u001b[95m0.004028 \u001b[0m | \u001b[95m40.12    \u001b[0m | \u001b[95m0.03846  \u001b[0m |\n",
            "| \u001b[0m4        \u001b[0m | \u001b[0m-0.9753  \u001b[0m | \u001b[0m0.008023 \u001b[0m | \u001b[0m49.73    \u001b[0m | \u001b[0m0.09437  \u001b[0m |\n",
            "| \u001b[0m5        \u001b[0m | \u001b[0m-1.486   \u001b[0m | \u001b[0m0.0001   \u001b[0m | \u001b[0m28.69    \u001b[0m | \u001b[0m0.1      \u001b[0m |\n",
            "| \u001b[0m6        \u001b[0m | \u001b[0m-0.9468  \u001b[0m | \u001b[0m0.01     \u001b[0m | \u001b[0m10.0     \u001b[0m | \u001b[0m0.001    \u001b[0m |\n",
            "| \u001b[0m7        \u001b[0m | \u001b[0m-1.273   \u001b[0m | \u001b[0m0.0001   \u001b[0m | \u001b[0m45.17    \u001b[0m | \u001b[0m0.001    \u001b[0m |\n",
            "| \u001b[0m8        \u001b[0m | \u001b[0m-1.7     \u001b[0m | \u001b[0m0.0001   \u001b[0m | \u001b[0m20.03    \u001b[0m | \u001b[0m0.1      \u001b[0m |\n",
            "| \u001b[0m9        \u001b[0m | \u001b[0m-0.9369  \u001b[0m | \u001b[0m0.00938  \u001b[0m | \u001b[0m13.1     \u001b[0m | \u001b[0m0.001    \u001b[0m |\n",
            "| \u001b[0m10       \u001b[0m | \u001b[0m-0.9923  \u001b[0m | \u001b[0m0.01     \u001b[0m | \u001b[0m34.91    \u001b[0m | \u001b[0m0.1      \u001b[0m |\n",
            "| \u001b[0m11       \u001b[0m | \u001b[0m-0.9607  \u001b[0m | \u001b[0m0.003063 \u001b[0m | \u001b[0m36.79    \u001b[0m | \u001b[0m0.09945  \u001b[0m |\n",
            "| \u001b[0m12       \u001b[0m | \u001b[0m-0.9829  \u001b[0m | \u001b[0m0.002734 \u001b[0m | \u001b[0m14.62    \u001b[0m | \u001b[0m0.09629  \u001b[0m |\n",
            "=============================================================\n",
            "{'target': -0.9093094521568785, 'params': {'learning_rate': 0.004027548573763779, 'num_epochs': 40.12447993402851, 'regularization': 0.03845769581999034}}\n"
          ]
        }
      ],
      "source": [
        "def train_and_evaluate(num_epochs, learning_rate, regularization):\n",
        "    num_epochs = int(num_epochs)\n",
        "    P_local = P.copy()\n",
        "    Q_local = Q.copy()\n",
        "\n",
        "    P_local, Q_local = train(train_ratings, P_local, Q_local, num_epochs=num_epochs, learning_rate=learning_rate, regularization=regularization)\n",
        "    predictions = predict(P_local, Q_local)\n",
        "    val_rmse = calculate_rmse(val_ratings, predictions)\n",
        "\n",
        "    # Bayesian optimization only knows how to maximize, not minimize, so return the negative RMSE\n",
        "    return -val_rmse\n",
        "\n",
        "# Bounded region of parameter space\n",
        "pbounds = {'num_epochs': (10, 50), 'learning_rate': (0.0001, 0.01), 'regularization': (0.001, 0.1)}\n",
        "\n",
        "optimizer = BayesianOptimization(\n",
        "    f=train_and_evaluate,\n",
        "    pbounds=pbounds,\n",
        "    random_state=1,\n",
        ")\n",
        "\n",
        "optimizer.maximize(init_points=2, n_iter=10)\n",
        "\n",
        "print(optimizer.max)"
      ]
    },
    {
      "cell_type": "code",
      "execution_count": null,
      "metadata": {
        "colab": {
          "base_uri": "https://localhost:8080/"
        },
        "id": "DelExF4fi6f9",
        "outputId": "eb34819c-f6b5-403d-84ce-e0886bb83903"
      },
      "outputs": [
        {
          "output_type": "stream",
          "name": "stdout",
          "text": [
            "Train RMSE: 0.8065121443686154\n",
            "Test RMSE: 0.9332725735485567\n"
          ]
        }
      ],
      "source": [
        "P, Q = train(train_ratings, P, Q, num_epochs=40, learning_rate= 0.004028, regularization=0.03846)\n",
        "\n",
        "predictions = predict(P, Q)\n",
        "\n",
        "print('Train RMSE:', calculate_rmse(train_ratings, predictions))\n",
        "\n",
        "print('Test RMSE:', calculate_rmse(test_ratings, predictions))\n"
      ]
    },
    {
      "cell_type": "code",
      "execution_count": null,
      "metadata": {
        "colab": {
          "base_uri": "https://localhost:8080/",
          "height": 317
        },
        "id": "ieSK6Ql6NMP5",
        "outputId": "def22924-5b4e-45fc-eb4f-719639220822"
      },
      "outputs": [
        {
          "output_type": "execute_result",
          "data": {
            "text/plain": [
              "   MovieId  Adventure  Animation  Children  Comedy  Fantasy  Romance  Drama  \\\n",
              "0        1          1          1         1       1        1        0      0   \n",
              "1        2          1          0         1       0        1        0      0   \n",
              "2        3          0          0         0       1        0        1      0   \n",
              "3        4          0          0         0       1        0        1      1   \n",
              "4        5          0          0         0       1        0        0      0   \n",
              "\n",
              "   Action  Crime  ...  Horror  Mystery  Sci-Fi  IMAX  War  Musical  \\\n",
              "0       0      0  ...       0        0       0     0    0        0   \n",
              "1       0      0  ...       0        0       0     0    0        0   \n",
              "2       0      0  ...       0        0       0     0    0        0   \n",
              "3       0      0  ...       0        0       0     0    0        0   \n",
              "4       0      0  ...       0        0       0     0    0        0   \n",
              "\n",
              "   Documentary  Western  Film-Noir  cluster_label  \n",
              "0            0        0          0              1  \n",
              "1            0        0          0              1  \n",
              "2            0        0          0              4  \n",
              "3            0        0          0              0  \n",
              "4            0        0          0              5  \n",
              "\n",
              "[5 rows x 21 columns]"
            ],
            "text/html": [
              "\n",
              "  <div id=\"df-56e12a32-0f8d-4dff-b2d8-4d7903b63e78\">\n",
              "    <div class=\"colab-df-container\">\n",
              "      <div>\n",
              "<style scoped>\n",
              "    .dataframe tbody tr th:only-of-type {\n",
              "        vertical-align: middle;\n",
              "    }\n",
              "\n",
              "    .dataframe tbody tr th {\n",
              "        vertical-align: top;\n",
              "    }\n",
              "\n",
              "    .dataframe thead th {\n",
              "        text-align: right;\n",
              "    }\n",
              "</style>\n",
              "<table border=\"1\" class=\"dataframe\">\n",
              "  <thead>\n",
              "    <tr style=\"text-align: right;\">\n",
              "      <th></th>\n",
              "      <th>MovieId</th>\n",
              "      <th>Adventure</th>\n",
              "      <th>Animation</th>\n",
              "      <th>Children</th>\n",
              "      <th>Comedy</th>\n",
              "      <th>Fantasy</th>\n",
              "      <th>Romance</th>\n",
              "      <th>Drama</th>\n",
              "      <th>Action</th>\n",
              "      <th>Crime</th>\n",
              "      <th>...</th>\n",
              "      <th>Horror</th>\n",
              "      <th>Mystery</th>\n",
              "      <th>Sci-Fi</th>\n",
              "      <th>IMAX</th>\n",
              "      <th>War</th>\n",
              "      <th>Musical</th>\n",
              "      <th>Documentary</th>\n",
              "      <th>Western</th>\n",
              "      <th>Film-Noir</th>\n",
              "      <th>cluster_label</th>\n",
              "    </tr>\n",
              "  </thead>\n",
              "  <tbody>\n",
              "    <tr>\n",
              "      <th>0</th>\n",
              "      <td>1</td>\n",
              "      <td>1</td>\n",
              "      <td>1</td>\n",
              "      <td>1</td>\n",
              "      <td>1</td>\n",
              "      <td>1</td>\n",
              "      <td>0</td>\n",
              "      <td>0</td>\n",
              "      <td>0</td>\n",
              "      <td>0</td>\n",
              "      <td>...</td>\n",
              "      <td>0</td>\n",
              "      <td>0</td>\n",
              "      <td>0</td>\n",
              "      <td>0</td>\n",
              "      <td>0</td>\n",
              "      <td>0</td>\n",
              "      <td>0</td>\n",
              "      <td>0</td>\n",
              "      <td>0</td>\n",
              "      <td>1</td>\n",
              "    </tr>\n",
              "    <tr>\n",
              "      <th>1</th>\n",
              "      <td>2</td>\n",
              "      <td>1</td>\n",
              "      <td>0</td>\n",
              "      <td>1</td>\n",
              "      <td>0</td>\n",
              "      <td>1</td>\n",
              "      <td>0</td>\n",
              "      <td>0</td>\n",
              "      <td>0</td>\n",
              "      <td>0</td>\n",
              "      <td>...</td>\n",
              "      <td>0</td>\n",
              "      <td>0</td>\n",
              "      <td>0</td>\n",
              "      <td>0</td>\n",
              "      <td>0</td>\n",
              "      <td>0</td>\n",
              "      <td>0</td>\n",
              "      <td>0</td>\n",
              "      <td>0</td>\n",
              "      <td>1</td>\n",
              "    </tr>\n",
              "    <tr>\n",
              "      <th>2</th>\n",
              "      <td>3</td>\n",
              "      <td>0</td>\n",
              "      <td>0</td>\n",
              "      <td>0</td>\n",
              "      <td>1</td>\n",
              "      <td>0</td>\n",
              "      <td>1</td>\n",
              "      <td>0</td>\n",
              "      <td>0</td>\n",
              "      <td>0</td>\n",
              "      <td>...</td>\n",
              "      <td>0</td>\n",
              "      <td>0</td>\n",
              "      <td>0</td>\n",
              "      <td>0</td>\n",
              "      <td>0</td>\n",
              "      <td>0</td>\n",
              "      <td>0</td>\n",
              "      <td>0</td>\n",
              "      <td>0</td>\n",
              "      <td>4</td>\n",
              "    </tr>\n",
              "    <tr>\n",
              "      <th>3</th>\n",
              "      <td>4</td>\n",
              "      <td>0</td>\n",
              "      <td>0</td>\n",
              "      <td>0</td>\n",
              "      <td>1</td>\n",
              "      <td>0</td>\n",
              "      <td>1</td>\n",
              "      <td>1</td>\n",
              "      <td>0</td>\n",
              "      <td>0</td>\n",
              "      <td>...</td>\n",
              "      <td>0</td>\n",
              "      <td>0</td>\n",
              "      <td>0</td>\n",
              "      <td>0</td>\n",
              "      <td>0</td>\n",
              "      <td>0</td>\n",
              "      <td>0</td>\n",
              "      <td>0</td>\n",
              "      <td>0</td>\n",
              "      <td>0</td>\n",
              "    </tr>\n",
              "    <tr>\n",
              "      <th>4</th>\n",
              "      <td>5</td>\n",
              "      <td>0</td>\n",
              "      <td>0</td>\n",
              "      <td>0</td>\n",
              "      <td>1</td>\n",
              "      <td>0</td>\n",
              "      <td>0</td>\n",
              "      <td>0</td>\n",
              "      <td>0</td>\n",
              "      <td>0</td>\n",
              "      <td>...</td>\n",
              "      <td>0</td>\n",
              "      <td>0</td>\n",
              "      <td>0</td>\n",
              "      <td>0</td>\n",
              "      <td>0</td>\n",
              "      <td>0</td>\n",
              "      <td>0</td>\n",
              "      <td>0</td>\n",
              "      <td>0</td>\n",
              "      <td>5</td>\n",
              "    </tr>\n",
              "  </tbody>\n",
              "</table>\n",
              "<p>5 rows × 21 columns</p>\n",
              "</div>\n",
              "      <button class=\"colab-df-convert\" onclick=\"convertToInteractive('df-56e12a32-0f8d-4dff-b2d8-4d7903b63e78')\"\n",
              "              title=\"Convert this dataframe to an interactive table.\"\n",
              "              style=\"display:none;\">\n",
              "        \n",
              "  <svg xmlns=\"http://www.w3.org/2000/svg\" height=\"24px\"viewBox=\"0 0 24 24\"\n",
              "       width=\"24px\">\n",
              "    <path d=\"M0 0h24v24H0V0z\" fill=\"none\"/>\n",
              "    <path d=\"M18.56 5.44l.94 2.06.94-2.06 2.06-.94-2.06-.94-.94-2.06-.94 2.06-2.06.94zm-11 1L8.5 8.5l.94-2.06 2.06-.94-2.06-.94L8.5 2.5l-.94 2.06-2.06.94zm10 10l.94 2.06.94-2.06 2.06-.94-2.06-.94-.94-2.06-.94 2.06-2.06.94z\"/><path d=\"M17.41 7.96l-1.37-1.37c-.4-.4-.92-.59-1.43-.59-.52 0-1.04.2-1.43.59L10.3 9.45l-7.72 7.72c-.78.78-.78 2.05 0 2.83L4 21.41c.39.39.9.59 1.41.59.51 0 1.02-.2 1.41-.59l7.78-7.78 2.81-2.81c.8-.78.8-2.07 0-2.86zM5.41 20L4 18.59l7.72-7.72 1.47 1.35L5.41 20z\"/>\n",
              "  </svg>\n",
              "      </button>\n",
              "      \n",
              "  <style>\n",
              "    .colab-df-container {\n",
              "      display:flex;\n",
              "      flex-wrap:wrap;\n",
              "      gap: 12px;\n",
              "    }\n",
              "\n",
              "    .colab-df-convert {\n",
              "      background-color: #E8F0FE;\n",
              "      border: none;\n",
              "      border-radius: 50%;\n",
              "      cursor: pointer;\n",
              "      display: none;\n",
              "      fill: #1967D2;\n",
              "      height: 32px;\n",
              "      padding: 0 0 0 0;\n",
              "      width: 32px;\n",
              "    }\n",
              "\n",
              "    .colab-df-convert:hover {\n",
              "      background-color: #E2EBFA;\n",
              "      box-shadow: 0px 1px 2px rgba(60, 64, 67, 0.3), 0px 1px 3px 1px rgba(60, 64, 67, 0.15);\n",
              "      fill: #174EA6;\n",
              "    }\n",
              "\n",
              "    [theme=dark] .colab-df-convert {\n",
              "      background-color: #3B4455;\n",
              "      fill: #D2E3FC;\n",
              "    }\n",
              "\n",
              "    [theme=dark] .colab-df-convert:hover {\n",
              "      background-color: #434B5C;\n",
              "      box-shadow: 0px 1px 3px 1px rgba(0, 0, 0, 0.15);\n",
              "      filter: drop-shadow(0px 1px 2px rgba(0, 0, 0, 0.3));\n",
              "      fill: #FFFFFF;\n",
              "    }\n",
              "  </style>\n",
              "\n",
              "      <script>\n",
              "        const buttonEl =\n",
              "          document.querySelector('#df-56e12a32-0f8d-4dff-b2d8-4d7903b63e78 button.colab-df-convert');\n",
              "        buttonEl.style.display =\n",
              "          google.colab.kernel.accessAllowed ? 'block' : 'none';\n",
              "\n",
              "        async function convertToInteractive(key) {\n",
              "          const element = document.querySelector('#df-56e12a32-0f8d-4dff-b2d8-4d7903b63e78');\n",
              "          const dataTable =\n",
              "            await google.colab.kernel.invokeFunction('convertToInteractive',\n",
              "                                                     [key], {});\n",
              "          if (!dataTable) return;\n",
              "\n",
              "          const docLinkHtml = 'Like what you see? Visit the ' +\n",
              "            '<a target=\"_blank\" href=https://colab.research.google.com/notebooks/data_table.ipynb>data table notebook</a>'\n",
              "            + ' to learn more about interactive tables.';\n",
              "          element.innerHTML = '';\n",
              "          dataTable['output_type'] = 'display_data';\n",
              "          await google.colab.output.renderOutput(dataTable, element);\n",
              "          const docLink = document.createElement('div');\n",
              "          docLink.innerHTML = docLinkHtml;\n",
              "          element.appendChild(docLink);\n",
              "        }\n",
              "      </script>\n",
              "    </div>\n",
              "  </div>\n",
              "  "
            ]
          },
          "metadata": {},
          "execution_count": 22
        }
      ],
      "source": [
        "movies_with_cluster = pd.read_csv('/content/gdrive/MyDrive/movies_clustered_final.csv')\n",
        "movies_with_cluster.head()"
      ]
    },
    {
      "cell_type": "code",
      "execution_count": null,
      "metadata": {
        "id": "BmRH-hkzlmdE"
      },
      "outputs": [],
      "source": [
        "movies_df = pd.read_csv('/content/gdrive/MyDrive/movies.csv',delimiter=\";\")"
      ]
    },
    {
      "cell_type": "code",
      "execution_count": null,
      "metadata": {
        "id": "o_Syx0gVllI3"
      },
      "outputs": [],
      "source": [
        "movies_dict = pd.Series(movies_df.title.values, index=movies_df.movieId).to_dict()"
      ]
    },
    {
      "cell_type": "code",
      "execution_count": null,
      "metadata": {
        "colab": {
          "base_uri": "https://localhost:8080/"
        },
        "id": "Jn1Nvnzrk_n0",
        "outputId": "8c9c32c0-07cd-4a51-e59e-955b91968f31"
      },
      "outputs": [
        {
          "output_type": "stream",
          "name": "stdout",
          "text": [
            "User: 0, Movie: 98, Actual Rating: 4.0, Predicted Rating: 4.247761366480355\n",
            "User: 0, Movie: 279, Actual Rating: 4.0, Predicted Rating: 4.464571833296821\n",
            "User: 0, Movie: 958, Actual Rating: 4.5, Predicted Rating: 4.353730298124919\n",
            "User: 0, Movie: 974, Actual Rating: 5.0, Predicted Rating: 4.084172830434199\n",
            "User: 0, Movie: 3859, Actual Rating: 3.5, Predicted Rating: 3.760060786713402\n",
            "User: 1, Movie: 24, Actual Rating: 3.0, Predicted Rating: 4.120616967979471\n",
            "User: 1, Movie: 230, Actual Rating: 4.0, Predicted Rating: 4.703929864478155\n",
            "User: 2, Movie: 121, Actual Rating: 4.0, Predicted Rating: 3.5343065369926534\n",
            "User: 2, Movie: 326, Actual Rating: 4.0, Predicted Rating: 3.2229231853759037\n",
            "User: 2, Movie: 365, Actual Rating: 4.0, Predicted Rating: 3.481102195205332\n"
          ]
        }
      ],
      "source": [
        "# Get the non-zero indices in the test set\n",
        "test_indices = np.nonzero(test_ratings)\n",
        "\n",
        "# Get the corresponding predicted ratings\n",
        "test_predictions = predictions[test_indices]\n",
        "\n",
        "# Get the actual ratings\n",
        "actual_ratings = test_ratings[test_indices]\n",
        "\n",
        "# Print a few samples\n",
        "for i in range(10):\n",
        "    print(f\"User: {test_indices[0][i]}, Movie: {test_indices[1][i]}, Actual Rating: {actual_ratings[i]}, Predicted Rating: {test_predictions[i]}\")"
      ]
    },
    {
      "cell_type": "code",
      "execution_count": null,
      "metadata": {
        "colab": {
          "base_uri": "https://localhost:8080/"
        },
        "id": "511v_3yLQTyI",
        "outputId": "c91c72db-5c30-4103-e1a5-e8a2fcb81e62"
      },
      "outputs": [
        {
          "output_type": "stream",
          "name": "stdout",
          "text": [
            "Selected Users: [130, 567, 627, 179, 403, 599, 194, 62, 244, 303]\n"
          ]
        }
      ],
      "source": [
        "import random\n",
        "\n",
        "def select_users_with_min_ratings(user_movie_matrix, min_ratings=400, num_users_to_select=10):\n",
        "    # Filter users who have rated a minimum number of movies\n",
        "    eligible_users = user_movie_matrix[(user_movie_matrix != 0).sum(axis=1) >= min_ratings].index.tolist()\n",
        "\n",
        "    if len(eligible_users) > num_users_to_select:\n",
        "        # Randomly select a subset of users\n",
        "        selected_users = random.sample(eligible_users, num_users_to_select)\n",
        "    else:\n",
        "        selected_users = eligible_users\n",
        "\n",
        "    return selected_users\n",
        "\n",
        "# Example usage\n",
        "selected_users = select_users_with_min_ratings(user_movie_matrix, min_ratings=400, num_users_to_select=10)\n",
        "print(\"Selected Users:\", selected_users)"
      ]
    },
    {
      "cell_type": "code",
      "execution_count": null,
      "metadata": {
        "colab": {
          "base_uri": "https://localhost:8080/"
        },
        "id": "e7CUQf2DQb7h",
        "outputId": "28f05aae-d629-4726-f11f-985e65dc2c54"
      },
      "outputs": [
        {
          "output_type": "stream",
          "name": "stdout",
          "text": [
            "Top 10 rated movies by user:\n",
            "Mighty Wind, A (2003) (5)\n",
            "Tommy Boy (1995) (5)\n",
            "How to Rob a Bank (2007) (10)\n",
            "Monsters vs. Aliens (2009) (1)\n",
            "Kung Fu Panda (2008) (5)\n",
            "Enchanted (2007) (4)\n",
            "Stardust (2007) (4)\n",
            "Night at the Museum (2006) (5)\n",
            "Funny Girl (1968) (6)\n",
            "Temple Grandin (2010) (8)\n",
            "Mothman Prophecies, The (2002) (10)\n",
            "Rise of the Planet of the Apes (2011) (3)\n",
            "Patch of Blue, A (1965) (6)\n",
            "Click (2006) (0)\n",
            "Planes, Trains & Automobiles (1987) (5)\n",
            "Limitless (2011) (3)\n",
            "Airplane II: The Sequel (1982) (5)\n",
            "Replacement Killers, The (1998) (9)\n",
            "Days of Thunder (1990) (6)\n",
            "From Justin to Kelly (2003) (4)\n"
          ]
        }
      ],
      "source": [
        "# Let's say we want to recommend movies for a user\n",
        "user_id = 668\n",
        "\n",
        "# Get the user's ratings from the user-item matrix\n",
        "user_ratings = user_movie_matrix.loc[user_id]\n",
        "\n",
        "# Get the indices of the movies the user has rated\n",
        "rated_movie_indices = np.where(user_ratings > 0)[0]\n",
        "\n",
        "# Adjust the indices to match the indices of the user-item matrix\n",
        "rated_movie_indices = [user_movie_matrix.columns[idx] for idx in rated_movie_indices]\n",
        "\n",
        "# Sort by the user's ratings\n",
        "top_rated_movie_ids = np.argsort(user_ratings[rated_movie_indices])[::-1]\n",
        "top_rated_movie_ids = [idx_to_movieId[id] for id in top_rated_movie_ids]\n",
        "\n",
        "print(\"Top 10 rated movies by user:\")\n",
        "for movie_id in top_rated_movie_ids[:20]:  # top 10 rated movies\n",
        "    movie_name = movies_dict[movie_id]\n",
        "    movie = movies_with_cluster[movies_with_cluster['MovieId'] == movie_id]\n",
        "    movie_cluster = movie['cluster_label'].values[0]\n",
        "    print(f\"{movie_name} ({movie_cluster})\")"
      ]
    },
    {
      "cell_type": "code",
      "execution_count": null,
      "metadata": {
        "colab": {
          "base_uri": "https://localhost:8080/"
        },
        "id": "GqfrT8m5QbSh",
        "outputId": "3cbebdf8-d1af-4baa-e288-9e4d5d87dda1"
      },
      "outputs": [
        {
          "output_type": "stream",
          "name": "stdout",
          "text": [
            "Top 10 recommended unseen movies for user:\n",
            "Man on a Ledge (2012) (9)\n",
            "Chappie (2015) (3)\n",
            "Trailer Park Boys: The Movie (2006) (5)\n",
            "Longest Yard, The (2005) (5)\n",
            "Tenacious D in The Pick of Destiny (2006) (5)\n",
            "Far from Heaven (2002) (6)\n",
            "Hello Ladies: The Movie (2014) (5)\n",
            "East-West (Est-ouest) (1999) (6)\n",
            "Men with Brooms (2002) (0)\n",
            "Bullitt (1968) (9)\n",
            "Kate & Leopold (2001) (4)\n",
            "Last Temptation of Christ, The (1988) (8)\n",
            "Great Locomotive Chase, The (1956) (7)\n",
            "Three O'Clock High (1987) (5)\n",
            "Good Girl, The (2002) (5)\n",
            "Cube Zero (2004) (2)\n",
            "Junior (1994) (5)\n",
            "Weight of Water, The (2000) (3)\n",
            "Girl Walks Home Alone at Night, A (2014) (2)\n",
            "Machine, The (2013) (3)\n"
          ]
        }
      ],
      "source": [
        "# Get the user's ratings from the user-item matrix\n",
        "user_ratings = user_movie_matrix.loc[user_id]\n",
        "\n",
        "# Get the indices of the movies the user hasn't rated yet\n",
        "unseen_movie_indices = np.where(user_ratings == 0)[0]\n",
        "\n",
        "# Get the user's predicted ratings\n",
        "user_predictions = predictions[user_id-1]\n",
        "\n",
        "# Recommend top N unseen movies for the user\n",
        "recommended_unseen_movie_ids = np.argsort(user_predictions[unseen_movie_indices])[::-1]\n",
        "recommended_unseen_movie_ids = [idx_to_movieId[id] for id in recommended_unseen_movie_ids]\n",
        "\n",
        "print(\"Top 10 recommended unseen movies for user:\")\n",
        "for movie_id in recommended_unseen_movie_ids[:20]:  # top 20 recommended unseen movies\n",
        "    movie_name = movies_dict[movie_id]\n",
        "    movie = movies_with_cluster[movies_with_cluster['MovieId'] == movie_id]\n",
        "    movie_cluster = movie['cluster_label'].values[0]\n",
        "    print(f\"{movie_name} ({movie_cluster})\")"
      ]
    },
    {
      "cell_type": "markdown",
      "metadata": {
        "id": "saMrMgzdq3ge"
      },
      "source": [
        "**Backup**"
      ]
    },
    {
      "cell_type": "markdown",
      "metadata": {
        "id": "ZVEG0ztr7wkn"
      },
      "source": [
        "SIMPLE ONLINE LEARNING APPROACH"
      ]
    },
    {
      "cell_type": "code",
      "execution_count": null,
      "metadata": {
        "id": "Zu6aSUsX7qbj"
      },
      "outputs": [],
      "source": [
        "def add_new_user(P):\n",
        "    avg_user_factors = np.mean(P, axis=0)\n",
        "    P = np.vstack([P, avg_user_factors])\n",
        "    return P\n",
        "\n",
        "def add_new_movie(Q):\n",
        "    avg_movie_factors = np.mean(Q, axis=0)\n",
        "    Q = np.vstack([Q, avg_movie_factors])\n",
        "    return Q\n",
        "\n",
        "def update_with_new_rating(user_id, movie_id, rating, P, Q, learning_rate=0.01, regularization=0.1):\n",
        "    prediction = P[user_id, :].dot(Q[movie_id, :])\n",
        "    error = rating - prediction\n",
        "    P[user_id, :] += learning_rate * (error * Q[movie_id, :] - regularization * P[user_id, :])\n",
        "    Q[movie_id, :] += learning_rate * (error * P[user_id, :] - regularization * Q[movie_id, :])\n",
        "    return P, Q\n"
      ]
    }
  ],
  "metadata": {
    "colab": {
      "gpuType": "A100",
      "machine_shape": "hm",
      "provenance": []
    },
    "kernelspec": {
      "display_name": "Python 3 (ipykernel)",
      "language": "python",
      "name": "python3"
    },
    "language_info": {
      "codemirror_mode": {
        "name": "ipython",
        "version": 3
      },
      "file_extension": ".py",
      "mimetype": "text/x-python",
      "name": "python",
      "nbconvert_exporter": "python",
      "pygments_lexer": "ipython3",
      "version": "3.9.12"
    }
  },
  "nbformat": 4,
  "nbformat_minor": 0
}